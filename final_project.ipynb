{
 "cells": [
  {
   "cell_type": "code",
   "execution_count": 319,
   "id": "5277faad-8993-47b6-b82f-fd1c1fa86616",
   "metadata": {},
   "outputs": [],
   "source": [
    "import hoomd\n",
    "import hoomd.md\n",
    "import gsd.hoomd\n",
    "import numpy as np\n",
    "import math\n",
    "import os\n",
    "import random\n",
    "import freud\n",
    "import matplotlib.pyplot as plt"
   ]
  },
  {
   "cell_type": "code",
   "execution_count": 320,
   "id": "67898d83-ed63-4a63-8863-11cdcb538b54",
   "metadata": {},
   "outputs": [],
   "source": [
    "# initialize HOOMD\n",
    "device = hoomd.device.CPU()  # auto-select CPU\n",
    "simulation = hoomd.Simulation(device=device, seed = 0)"
   ]
  },
  {
   "cell_type": "code",
   "execution_count": 321,
   "id": "bff98d11-182e-461e-9499-ab961437ef2d",
   "metadata": {},
   "outputs": [],
   "source": [
    "# parameters\n",
    "N = 64  # number of particles\n",
    "fraction_si = 0.7\n",
    "n_si = int(N * fraction_si)\n",
    "n_li = N - n_si\n",
    "box_length = 25 \n",
    "kT = 1.5  \n",
    "mass_li = 6.941  \n",
    "mass_si = 28.0855\n",
    "mass = (mass_li + mass_si) / 2"
   ]
  },
  {
   "cell_type": "code",
   "execution_count": 322,
   "id": "deb7f8db-e896-4dab-9e25-25a059732165",
   "metadata": {},
   "outputs": [],
   "source": [
    "# initialize particles in a random cubic lattice\n",
    "snapshot = hoomd.Snapshot()\n",
    "snapshot.particles.N = N\n",
    "snapshot.particles.types = ['Li', 'Si']\n",
    "\n",
    "typeids = [0] * n_si + [1] * n_li  # 0 for Si, 1 for Li\n",
    "np.random.shuffle(typeids)  # shuffle typeids\n",
    "\n",
    "particles_per_dim = int(round(N ** (1 / 3)))\n",
    "assert particles_per_dim ** 3 == N, \"N must be a perfect cube for a simple cubic lattice.\"\n",
    "\n",
    "# generate a simple cubic lattice\n",
    "positions = []\n",
    "for x in range(particles_per_dim):\n",
    "    for y in range(particles_per_dim):\n",
    "        for z in range(particles_per_dim):\n",
    "            # Calculate the position in the box\n",
    "            positions.append([\n",
    "                -box_length / 2 + (x + 0.5) * box_length / particles_per_dim,\n",
    "                -box_length / 2 + (y + 0.5) * box_length / particles_per_dim,\n",
    "                -box_length / 2 + (z + 0.5) * box_length / particles_per_dim,\n",
    "            ])\n",
    "\n",
    "# assign shuffled typeids and lattice positions to the snapshot\n",
    "snapshot.particles.typeid[:] = typeids\n",
    "snapshot.particles.position[:] = positions\n",
    "snapshot.configuration.box = [box_length, box_length, box_length, 0, 0, 0]\n",
    "\n",
    "simulation.create_state_from_snapshot(snapshot)"
   ]
  },
  {
   "cell_type": "code",
   "execution_count": 323,
   "id": "bc435710-aceb-4011-abf6-7f26e25da211",
   "metadata": {},
   "outputs": [],
   "source": [
    "try:\n",
    "    os.remove(\"lattice.gsd\")\n",
    "except OSError:\n",
    "    pass\n",
    "hoomd.write.GSD.write(state=simulation.state, mode=\"xb\", filename=\"lattice.gsd\")"
   ]
  },
  {
   "cell_type": "code",
   "execution_count": 324,
   "id": "ead82862-7abd-4925-ba50-791fcd51f4fe",
   "metadata": {},
   "outputs": [],
   "source": [
    "# do HPMC simulations to randomize the system\n",
    "mc = hoomd.hpmc.integrate.Sphere()\n",
    "mc.shape[\"Li\"] = dict(diameter = 1)\n",
    "mc.shape[\"Si\"] = dict(diameter = 2)\n",
    "simulation.operations.integrator = mc\n",
    "\n",
    "simulation.run(1e4)"
   ]
  },
  {
   "cell_type": "code",
   "execution_count": 325,
   "id": "8cb7ef4c-f54b-4687-b6eb-c91568538f6d",
   "metadata": {},
   "outputs": [],
   "source": [
    "try:\n",
    "    os.remove(\"random.gsd\")\n",
    "except OSError:\n",
    "    pass\n",
    "hoomd.write.GSD.write(state=simulation.state, mode=\"xb\", filename=\"random.gsd\")"
   ]
  },
  {
   "cell_type": "code",
   "execution_count": 326,
   "id": "87fd3f8d-6992-4b43-8089-e4486924a908",
   "metadata": {},
   "outputs": [],
   "source": [
    "# get initial velocities based on temperature\n",
    "snapshot = simulation.state.get_snapshot()\n",
    "if device.communicator.rank == 0:\n",
    "    np.random.seed(42)  # Seed for reproducibility\n",
    "    velocities = np.random.normal(0, np.sqrt(kT / mass), size=(snapshot.particles.N, 3))\n",
    "    snapshot.particles.velocity[:] = velocities\n",
    "simulation.state.thermalize_particle_momenta(filter=hoomd.filter.All(), kT=kT)\n",
    "simulation.state.set_snapshot(snapshot)\n",
    "\n",
    "# LJ params from https://openkim.org/files/MO_959249795837_003/LennardJones612_UniversalShifted.params\n",
    "eps_AA = 1.0496900\n",
    "eps_BB = 3.1743100\n",
    "sig_AA = 2.2807000\n",
    "sig_BB = 1.9778000\n",
    "r_cut_AA = 3#9.1228000 # had to redefine r_cut to accommodate simulation box shrinkage\n",
    "r_cut_BB = 3#7.9111800\n",
    "\n",
    "# calculate A-B interactions via Lorentz-Berthelot combining rules\n",
    "eps_AB = math.sqrt(eps_AA * eps_BB)\n",
    "sig_AB = (sig_AA + sig_BB) / 2\n",
    "r_cut_AB = (r_cut_AA + r_cut_BB) / 2\n",
    "\n",
    "cell = hoomd.md.nlist.Cell(buffer=0.4)  # neighbor list\n",
    "lj = hoomd.md.pair.LJ(nlist = cell) # use LJ pair potential\n",
    "\n",
    "# define LJ potentials\n",
    "lj.params[('Li', 'Li')] = dict(epsilon=eps_AA, sigma=sig_AA)\n",
    "lj.params[('Si', 'Si')] = dict(epsilon=eps_BB, sigma=sig_BB)\n",
    "lj.params[('Si', 'Li')] = dict(epsilon=eps_AB, sigma=sig_AB)\n",
    "\n",
    "lj.r_cut[('Li', 'Li')] = r_cut_AA\n",
    "lj.r_cut[('Si', 'Si')] = r_cut_BB\n",
    "lj.r_cut[('Si', 'Li')] = r_cut_AB\n",
    "\n",
    "# create integrator and thermostat\n",
    "integrator = hoomd.md.Integrator(dt=0.0001)\n",
    "berendsen = hoomd.md.methods.thermostats.Berendsen(kT=kT, tau=1)\n",
    "berendsen.kT = hoomd.variant.Ramp(A=kT,\n",
    "                                  B=0.2,\n",
    "                                  t_start=0,\n",
    "                                  t_ramp=1000000) # T decreases from kT down to 0.2 over 1000000 steps\n",
    "npt = hoomd.md.methods.ConstantPressure(\n",
    "    S = 2, tauS = 1, couple = \"xyz\", filter=hoomd.filter.All(), thermostat = berendsen\n",
    ")\n",
    "integrator.methods.append(npt)\n",
    "\n",
    "# nvt = hoomd.md.methods.ConstantVolume(\n",
    "#     filter=hoomd.filter.All(),\n",
    "#     thermostat=berendsen\n",
    "# )\n",
    "# integrator.methods.append(nvt)\n",
    "\n",
    "# periodic = hoomd.md.external.field.Periodic()\n",
    "# periodic.params['Li'] = dict(A=100.0, i=0, w=0.02, p=3)\n",
    "# periodic.params['Si'] = dict(A=-100.0, i=0, w=0.02, p=3)\n",
    "# integrator.forces.append(periodic)\n",
    "\n",
    "integrator.forces.append(lj)\n",
    "simulation.operations.integrator = integrator\n",
    "\n",
    "# properties logging\n",
    "thermo_props = hoomd.md.compute.ThermodynamicQuantities(filter=hoomd.filter.All())\n",
    "simulation.operations.computes.append(thermo_props)\n",
    "\n",
    "logger = hoomd.logging.Logger()\n",
    "logger.add(thermo_props, quantities=['kinetic_temperature', 'potential_energy', 'pressure', 'kinetic_energy'])\n",
    "\n",
    "try:\n",
    "    os.remove(\"test000.gsd\")\n",
    "except OSError:\n",
    "    pass\n",
    "    \n",
    "# GSD writer\n",
    "gsd_writer = hoomd.write.GSD(\n",
    "    filename=\"test000.gsd\",\n",
    "    trigger=hoomd.trigger.Periodic(1000),\n",
    "    mode='wb'\n",
    ")\n",
    "simulation.operations.writers.append(gsd_writer)\n",
    "\n",
    "# Run the simulation\n",
    "simulation.run(1e6)\n",
    "gsd_writer.flush()"
   ]
  },
  {
   "cell_type": "code",
   "execution_count": 327,
   "id": "36a6afe4-41c2-47ef-8523-7b67d9d3ec59",
   "metadata": {},
   "outputs": [],
   "source": [
    "# adapted from https://hoomd-blue.readthedocs.io/en/latest/tutorial/00-Introducing-HOOMD-blue/07-Analyzing-Trajectories.html\n",
    "traj = gsd.hoomd.open('test000.gsd', 'r')\n",
    "solid = freud.order.SolidLiquid(l=6, q_threshold=0.7, solid_threshold=6)\n",
    "is_solid = []\n",
    "for frame in traj:\n",
    "    solid.compute(\n",
    "        system=(frame.configuration.box, frame.particles.position),\n",
    "        neighbors=dict(mode='nearest', num_neighbors=12),\n",
    "    )\n",
    "    is_solid.append(solid.num_connections > solid.solid_threshold)"
   ]
  },
  {
   "cell_type": "code",
   "execution_count": 328,
   "id": "6cef13b7-b468-4de1-aed4-f5ee62551555",
   "metadata": {},
   "outputs": [
    {
     "data": {
      "image/png": "[encoded data removed]",
      "text/plain": [
       "<Figure size 640x480 with 1 Axes>"
      ]
     },
     "metadata": {},
     "output_type": "display_data"
    }
   ],
   "source": [
    "# adapted from https://hoomd-blue.readthedocs.io/en/latest/tutorial/00-Introducing-HOOMD-blue/07-Analyzing-Trajectories.html\n",
    "fig, ax = plt.subplots()\n",
    "num_solid = np.array([np.sum(a) for a in is_solid])\n",
    "ax.plot(num_solid[:1000])\n",
    "ax.set_xlabel('frame')\n",
    "ax.set_ylabel('number of particles in a solid environment')\n",
    "fig.show()"
   ]
  },
  {
   "cell_type": "code",
   "execution_count": 318,
   "id": "f4b9d936-34bb-4446-ae9b-1a8400745b60",
   "metadata": {},
   "outputs": [],
   "source": [
    "# add a field\n",
    "periodic = hoomd.md.external.field.Periodic()\n",
    "periodic.params['Li'] = dict(A=10000.0, i=0, w=0.02, p=3)\n",
    "periodic.params['Si'] = dict(A=-10000.0, i=0, w=0.02, p=3)\n",
    "integrator.forces.append(periodic)\n",
    "npt = hoomd.md.methods.ConstantPressure(\n",
    "    S = 0.1, tauS = 1, couple = \"xyz\", filter=hoomd.filter.All(), thermostat = berendsen\n",
    ")\n",
    "integrator.methods.append(npt)\n",
    "simulation.operations.integrator =integrator\n",
    "simulation.run(1e5)\n"
   ]
  }
 ],
 "metadata": {
  "kernelspec": {
   "display_name": "Python 3 (ipykernel)",
   "language": "python",
   "name": "python3"
  },
  "language_info": {
   "codemirror_mode": {
    "name": "ipython",
    "version": 3
   },
   "file_extension": ".py",
   "mimetype": "text/x-python",
   "name": "python",
   "nbconvert_exporter": "python",
   "pygments_lexer": "ipython3",
   "version": "3.12.7"
  }
 },
 "nbformat": 4,
 "nbformat_minor": 5
}
